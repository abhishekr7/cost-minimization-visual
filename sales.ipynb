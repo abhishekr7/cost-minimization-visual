{
 "cells": [
  {
   "cell_type": "markdown",
   "metadata": {},
   "source": [
    "# Import all necessary libraries"
   ]
  },
  {
   "cell_type": "code",
   "execution_count": 1,
   "metadata": {},
   "outputs": [],
   "source": [
    "from tensorflow import keras\n",
    "from keras.layers import Dense\n",
    "from keras.models import Sequential\n",
    "from keras import optimizers\n",
    "import pandas as pd"
   ]
  },
  {
   "cell_type": "markdown",
   "metadata": {},
   "source": [
    "# Load training data"
   ]
  },
  {
   "cell_type": "code",
   "execution_count": 2,
   "metadata": {},
   "outputs": [],
   "source": [
    "df = pd.read_csv('/home/abhishek/Documents/NLP/Blog/spam-ham-classifier/Advertising.csv')\n",
    "df.drop(['Unnamed: 0','radio','newspaper'],axis = 1 , inplace=True)\n",
    "df.head()"
   ]
  },
  {
   "cell_type": "markdown",
   "metadata": {},
   "source": [
    "# Display data"
   ]
  },
  {
   "cell_type": "code",
   "execution_count": 3,
   "metadata": {},
   "outputs": [
    {
     "data": {
      "text/html": [
       "<div>\n",
       "<style scoped>\n",
       "    .dataframe tbody tr th:only-of-type {\n",
       "        vertical-align: middle;\n",
       "    }\n",
       "\n",
       "    .dataframe tbody tr th {\n",
       "        vertical-align: top;\n",
       "    }\n",
       "\n",
       "    .dataframe thead th {\n",
       "        text-align: right;\n",
       "    }\n",
       "</style>\n",
       "<table border=\"1\" class=\"dataframe\">\n",
       "  <thead>\n",
       "    <tr style=\"text-align: right;\">\n",
       "      <th></th>\n",
       "      <th>Unnamed: 0</th>\n",
       "      <th>TV</th>\n",
       "      <th>radio</th>\n",
       "      <th>newspaper</th>\n",
       "      <th>sales</th>\n",
       "    </tr>\n",
       "  </thead>\n",
       "  <tbody>\n",
       "    <tr>\n",
       "      <th>0</th>\n",
       "      <td>1</td>\n",
       "      <td>230.1</td>\n",
       "      <td>37.8</td>\n",
       "      <td>69.2</td>\n",
       "      <td>22.1</td>\n",
       "    </tr>\n",
       "    <tr>\n",
       "      <th>1</th>\n",
       "      <td>2</td>\n",
       "      <td>44.5</td>\n",
       "      <td>39.3</td>\n",
       "      <td>45.1</td>\n",
       "      <td>10.4</td>\n",
       "    </tr>\n",
       "    <tr>\n",
       "      <th>2</th>\n",
       "      <td>3</td>\n",
       "      <td>17.2</td>\n",
       "      <td>45.9</td>\n",
       "      <td>69.3</td>\n",
       "      <td>9.3</td>\n",
       "    </tr>\n",
       "    <tr>\n",
       "      <th>3</th>\n",
       "      <td>4</td>\n",
       "      <td>151.5</td>\n",
       "      <td>41.3</td>\n",
       "      <td>58.5</td>\n",
       "      <td>18.5</td>\n",
       "    </tr>\n",
       "    <tr>\n",
       "      <th>4</th>\n",
       "      <td>5</td>\n",
       "      <td>180.8</td>\n",
       "      <td>10.8</td>\n",
       "      <td>58.4</td>\n",
       "      <td>12.9</td>\n",
       "    </tr>\n",
       "    <tr>\n",
       "      <th>5</th>\n",
       "      <td>6</td>\n",
       "      <td>8.7</td>\n",
       "      <td>48.9</td>\n",
       "      <td>75.0</td>\n",
       "      <td>7.2</td>\n",
       "    </tr>\n",
       "    <tr>\n",
       "      <th>6</th>\n",
       "      <td>7</td>\n",
       "      <td>57.5</td>\n",
       "      <td>32.8</td>\n",
       "      <td>23.5</td>\n",
       "      <td>11.8</td>\n",
       "    </tr>\n",
       "    <tr>\n",
       "      <th>7</th>\n",
       "      <td>8</td>\n",
       "      <td>120.2</td>\n",
       "      <td>19.6</td>\n",
       "      <td>11.6</td>\n",
       "      <td>13.2</td>\n",
       "    </tr>\n",
       "    <tr>\n",
       "      <th>8</th>\n",
       "      <td>9</td>\n",
       "      <td>8.6</td>\n",
       "      <td>2.1</td>\n",
       "      <td>1.0</td>\n",
       "      <td>4.8</td>\n",
       "    </tr>\n",
       "    <tr>\n",
       "      <th>9</th>\n",
       "      <td>10</td>\n",
       "      <td>199.8</td>\n",
       "      <td>2.6</td>\n",
       "      <td>21.2</td>\n",
       "      <td>10.6</td>\n",
       "    </tr>\n",
       "    <tr>\n",
       "      <th>10</th>\n",
       "      <td>11</td>\n",
       "      <td>66.1</td>\n",
       "      <td>5.8</td>\n",
       "      <td>24.2</td>\n",
       "      <td>8.6</td>\n",
       "    </tr>\n",
       "    <tr>\n",
       "      <th>11</th>\n",
       "      <td>12</td>\n",
       "      <td>214.7</td>\n",
       "      <td>24.0</td>\n",
       "      <td>4.0</td>\n",
       "      <td>17.4</td>\n",
       "    </tr>\n",
       "    <tr>\n",
       "      <th>12</th>\n",
       "      <td>13</td>\n",
       "      <td>23.8</td>\n",
       "      <td>35.1</td>\n",
       "      <td>65.9</td>\n",
       "      <td>9.2</td>\n",
       "    </tr>\n",
       "    <tr>\n",
       "      <th>13</th>\n",
       "      <td>14</td>\n",
       "      <td>97.5</td>\n",
       "      <td>7.6</td>\n",
       "      <td>7.2</td>\n",
       "      <td>9.7</td>\n",
       "    </tr>\n",
       "    <tr>\n",
       "      <th>14</th>\n",
       "      <td>15</td>\n",
       "      <td>204.1</td>\n",
       "      <td>32.9</td>\n",
       "      <td>46.0</td>\n",
       "      <td>19.0</td>\n",
       "    </tr>\n",
       "    <tr>\n",
       "      <th>15</th>\n",
       "      <td>16</td>\n",
       "      <td>195.4</td>\n",
       "      <td>47.7</td>\n",
       "      <td>52.9</td>\n",
       "      <td>22.4</td>\n",
       "    </tr>\n",
       "    <tr>\n",
       "      <th>16</th>\n",
       "      <td>17</td>\n",
       "      <td>67.8</td>\n",
       "      <td>36.6</td>\n",
       "      <td>114.0</td>\n",
       "      <td>12.5</td>\n",
       "    </tr>\n",
       "    <tr>\n",
       "      <th>17</th>\n",
       "      <td>18</td>\n",
       "      <td>281.4</td>\n",
       "      <td>39.6</td>\n",
       "      <td>55.8</td>\n",
       "      <td>24.4</td>\n",
       "    </tr>\n",
       "    <tr>\n",
       "      <th>18</th>\n",
       "      <td>19</td>\n",
       "      <td>69.2</td>\n",
       "      <td>20.5</td>\n",
       "      <td>18.3</td>\n",
       "      <td>11.3</td>\n",
       "    </tr>\n",
       "    <tr>\n",
       "      <th>19</th>\n",
       "      <td>20</td>\n",
       "      <td>147.3</td>\n",
       "      <td>23.9</td>\n",
       "      <td>19.1</td>\n",
       "      <td>14.6</td>\n",
       "    </tr>\n",
       "    <tr>\n",
       "      <th>20</th>\n",
       "      <td>21</td>\n",
       "      <td>218.4</td>\n",
       "      <td>27.7</td>\n",
       "      <td>53.4</td>\n",
       "      <td>18.0</td>\n",
       "    </tr>\n",
       "    <tr>\n",
       "      <th>21</th>\n",
       "      <td>22</td>\n",
       "      <td>237.4</td>\n",
       "      <td>5.1</td>\n",
       "      <td>23.5</td>\n",
       "      <td>12.5</td>\n",
       "    </tr>\n",
       "    <tr>\n",
       "      <th>22</th>\n",
       "      <td>23</td>\n",
       "      <td>13.2</td>\n",
       "      <td>15.9</td>\n",
       "      <td>49.6</td>\n",
       "      <td>5.6</td>\n",
       "    </tr>\n",
       "    <tr>\n",
       "      <th>23</th>\n",
       "      <td>24</td>\n",
       "      <td>228.3</td>\n",
       "      <td>16.9</td>\n",
       "      <td>26.2</td>\n",
       "      <td>15.5</td>\n",
       "    </tr>\n",
       "    <tr>\n",
       "      <th>24</th>\n",
       "      <td>25</td>\n",
       "      <td>62.3</td>\n",
       "      <td>12.6</td>\n",
       "      <td>18.3</td>\n",
       "      <td>9.7</td>\n",
       "    </tr>\n",
       "    <tr>\n",
       "      <th>25</th>\n",
       "      <td>26</td>\n",
       "      <td>262.9</td>\n",
       "      <td>3.5</td>\n",
       "      <td>19.5</td>\n",
       "      <td>12.0</td>\n",
       "    </tr>\n",
       "    <tr>\n",
       "      <th>26</th>\n",
       "      <td>27</td>\n",
       "      <td>142.9</td>\n",
       "      <td>29.3</td>\n",
       "      <td>12.6</td>\n",
       "      <td>15.0</td>\n",
       "    </tr>\n",
       "    <tr>\n",
       "      <th>27</th>\n",
       "      <td>28</td>\n",
       "      <td>240.1</td>\n",
       "      <td>16.7</td>\n",
       "      <td>22.9</td>\n",
       "      <td>15.9</td>\n",
       "    </tr>\n",
       "    <tr>\n",
       "      <th>28</th>\n",
       "      <td>29</td>\n",
       "      <td>248.8</td>\n",
       "      <td>27.1</td>\n",
       "      <td>22.9</td>\n",
       "      <td>18.9</td>\n",
       "    </tr>\n",
       "    <tr>\n",
       "      <th>29</th>\n",
       "      <td>30</td>\n",
       "      <td>70.6</td>\n",
       "      <td>16.0</td>\n",
       "      <td>40.8</td>\n",
       "      <td>10.5</td>\n",
       "    </tr>\n",
       "    <tr>\n",
       "      <th>...</th>\n",
       "      <td>...</td>\n",
       "      <td>...</td>\n",
       "      <td>...</td>\n",
       "      <td>...</td>\n",
       "      <td>...</td>\n",
       "    </tr>\n",
       "    <tr>\n",
       "      <th>170</th>\n",
       "      <td>171</td>\n",
       "      <td>50.0</td>\n",
       "      <td>11.6</td>\n",
       "      <td>18.4</td>\n",
       "      <td>8.4</td>\n",
       "    </tr>\n",
       "    <tr>\n",
       "      <th>171</th>\n",
       "      <td>172</td>\n",
       "      <td>164.5</td>\n",
       "      <td>20.9</td>\n",
       "      <td>47.4</td>\n",
       "      <td>14.5</td>\n",
       "    </tr>\n",
       "    <tr>\n",
       "      <th>172</th>\n",
       "      <td>173</td>\n",
       "      <td>19.6</td>\n",
       "      <td>20.1</td>\n",
       "      <td>17.0</td>\n",
       "      <td>7.6</td>\n",
       "    </tr>\n",
       "    <tr>\n",
       "      <th>173</th>\n",
       "      <td>174</td>\n",
       "      <td>168.4</td>\n",
       "      <td>7.1</td>\n",
       "      <td>12.8</td>\n",
       "      <td>11.7</td>\n",
       "    </tr>\n",
       "    <tr>\n",
       "      <th>174</th>\n",
       "      <td>175</td>\n",
       "      <td>222.4</td>\n",
       "      <td>3.4</td>\n",
       "      <td>13.1</td>\n",
       "      <td>11.5</td>\n",
       "    </tr>\n",
       "    <tr>\n",
       "      <th>175</th>\n",
       "      <td>176</td>\n",
       "      <td>276.9</td>\n",
       "      <td>48.9</td>\n",
       "      <td>41.8</td>\n",
       "      <td>27.0</td>\n",
       "    </tr>\n",
       "    <tr>\n",
       "      <th>176</th>\n",
       "      <td>177</td>\n",
       "      <td>248.4</td>\n",
       "      <td>30.2</td>\n",
       "      <td>20.3</td>\n",
       "      <td>20.2</td>\n",
       "    </tr>\n",
       "    <tr>\n",
       "      <th>177</th>\n",
       "      <td>178</td>\n",
       "      <td>170.2</td>\n",
       "      <td>7.8</td>\n",
       "      <td>35.2</td>\n",
       "      <td>11.7</td>\n",
       "    </tr>\n",
       "    <tr>\n",
       "      <th>178</th>\n",
       "      <td>179</td>\n",
       "      <td>276.7</td>\n",
       "      <td>2.3</td>\n",
       "      <td>23.7</td>\n",
       "      <td>11.8</td>\n",
       "    </tr>\n",
       "    <tr>\n",
       "      <th>179</th>\n",
       "      <td>180</td>\n",
       "      <td>165.6</td>\n",
       "      <td>10.0</td>\n",
       "      <td>17.6</td>\n",
       "      <td>12.6</td>\n",
       "    </tr>\n",
       "    <tr>\n",
       "      <th>180</th>\n",
       "      <td>181</td>\n",
       "      <td>156.6</td>\n",
       "      <td>2.6</td>\n",
       "      <td>8.3</td>\n",
       "      <td>10.5</td>\n",
       "    </tr>\n",
       "    <tr>\n",
       "      <th>181</th>\n",
       "      <td>182</td>\n",
       "      <td>218.5</td>\n",
       "      <td>5.4</td>\n",
       "      <td>27.4</td>\n",
       "      <td>12.2</td>\n",
       "    </tr>\n",
       "    <tr>\n",
       "      <th>182</th>\n",
       "      <td>183</td>\n",
       "      <td>56.2</td>\n",
       "      <td>5.7</td>\n",
       "      <td>29.7</td>\n",
       "      <td>8.7</td>\n",
       "    </tr>\n",
       "    <tr>\n",
       "      <th>183</th>\n",
       "      <td>184</td>\n",
       "      <td>287.6</td>\n",
       "      <td>43.0</td>\n",
       "      <td>71.8</td>\n",
       "      <td>26.2</td>\n",
       "    </tr>\n",
       "    <tr>\n",
       "      <th>184</th>\n",
       "      <td>185</td>\n",
       "      <td>253.8</td>\n",
       "      <td>21.3</td>\n",
       "      <td>30.0</td>\n",
       "      <td>17.6</td>\n",
       "    </tr>\n",
       "    <tr>\n",
       "      <th>185</th>\n",
       "      <td>186</td>\n",
       "      <td>205.0</td>\n",
       "      <td>45.1</td>\n",
       "      <td>19.6</td>\n",
       "      <td>22.6</td>\n",
       "    </tr>\n",
       "    <tr>\n",
       "      <th>186</th>\n",
       "      <td>187</td>\n",
       "      <td>139.5</td>\n",
       "      <td>2.1</td>\n",
       "      <td>26.6</td>\n",
       "      <td>10.3</td>\n",
       "    </tr>\n",
       "    <tr>\n",
       "      <th>187</th>\n",
       "      <td>188</td>\n",
       "      <td>191.1</td>\n",
       "      <td>28.7</td>\n",
       "      <td>18.2</td>\n",
       "      <td>17.3</td>\n",
       "    </tr>\n",
       "    <tr>\n",
       "      <th>188</th>\n",
       "      <td>189</td>\n",
       "      <td>286.0</td>\n",
       "      <td>13.9</td>\n",
       "      <td>3.7</td>\n",
       "      <td>15.9</td>\n",
       "    </tr>\n",
       "    <tr>\n",
       "      <th>189</th>\n",
       "      <td>190</td>\n",
       "      <td>18.7</td>\n",
       "      <td>12.1</td>\n",
       "      <td>23.4</td>\n",
       "      <td>6.7</td>\n",
       "    </tr>\n",
       "    <tr>\n",
       "      <th>190</th>\n",
       "      <td>191</td>\n",
       "      <td>39.5</td>\n",
       "      <td>41.1</td>\n",
       "      <td>5.8</td>\n",
       "      <td>10.8</td>\n",
       "    </tr>\n",
       "    <tr>\n",
       "      <th>191</th>\n",
       "      <td>192</td>\n",
       "      <td>75.5</td>\n",
       "      <td>10.8</td>\n",
       "      <td>6.0</td>\n",
       "      <td>9.9</td>\n",
       "    </tr>\n",
       "    <tr>\n",
       "      <th>192</th>\n",
       "      <td>193</td>\n",
       "      <td>17.2</td>\n",
       "      <td>4.1</td>\n",
       "      <td>31.6</td>\n",
       "      <td>5.9</td>\n",
       "    </tr>\n",
       "    <tr>\n",
       "      <th>193</th>\n",
       "      <td>194</td>\n",
       "      <td>166.8</td>\n",
       "      <td>42.0</td>\n",
       "      <td>3.6</td>\n",
       "      <td>19.6</td>\n",
       "    </tr>\n",
       "    <tr>\n",
       "      <th>194</th>\n",
       "      <td>195</td>\n",
       "      <td>149.7</td>\n",
       "      <td>35.6</td>\n",
       "      <td>6.0</td>\n",
       "      <td>17.3</td>\n",
       "    </tr>\n",
       "    <tr>\n",
       "      <th>195</th>\n",
       "      <td>196</td>\n",
       "      <td>38.2</td>\n",
       "      <td>3.7</td>\n",
       "      <td>13.8</td>\n",
       "      <td>7.6</td>\n",
       "    </tr>\n",
       "    <tr>\n",
       "      <th>196</th>\n",
       "      <td>197</td>\n",
       "      <td>94.2</td>\n",
       "      <td>4.9</td>\n",
       "      <td>8.1</td>\n",
       "      <td>9.7</td>\n",
       "    </tr>\n",
       "    <tr>\n",
       "      <th>197</th>\n",
       "      <td>198</td>\n",
       "      <td>177.0</td>\n",
       "      <td>9.3</td>\n",
       "      <td>6.4</td>\n",
       "      <td>12.8</td>\n",
       "    </tr>\n",
       "    <tr>\n",
       "      <th>198</th>\n",
       "      <td>199</td>\n",
       "      <td>283.6</td>\n",
       "      <td>42.0</td>\n",
       "      <td>66.2</td>\n",
       "      <td>25.5</td>\n",
       "    </tr>\n",
       "    <tr>\n",
       "      <th>199</th>\n",
       "      <td>200</td>\n",
       "      <td>232.1</td>\n",
       "      <td>8.6</td>\n",
       "      <td>8.7</td>\n",
       "      <td>13.4</td>\n",
       "    </tr>\n",
       "  </tbody>\n",
       "</table>\n",
       "<p>200 rows × 5 columns</p>\n",
       "</div>"
      ],
      "text/plain": [
       "     Unnamed: 0     TV  radio  newspaper  sales\n",
       "0             1  230.1   37.8       69.2   22.1\n",
       "1             2   44.5   39.3       45.1   10.4\n",
       "2             3   17.2   45.9       69.3    9.3\n",
       "3             4  151.5   41.3       58.5   18.5\n",
       "4             5  180.8   10.8       58.4   12.9\n",
       "5             6    8.7   48.9       75.0    7.2\n",
       "6             7   57.5   32.8       23.5   11.8\n",
       "7             8  120.2   19.6       11.6   13.2\n",
       "8             9    8.6    2.1        1.0    4.8\n",
       "9            10  199.8    2.6       21.2   10.6\n",
       "10           11   66.1    5.8       24.2    8.6\n",
       "11           12  214.7   24.0        4.0   17.4\n",
       "12           13   23.8   35.1       65.9    9.2\n",
       "13           14   97.5    7.6        7.2    9.7\n",
       "14           15  204.1   32.9       46.0   19.0\n",
       "15           16  195.4   47.7       52.9   22.4\n",
       "16           17   67.8   36.6      114.0   12.5\n",
       "17           18  281.4   39.6       55.8   24.4\n",
       "18           19   69.2   20.5       18.3   11.3\n",
       "19           20  147.3   23.9       19.1   14.6\n",
       "20           21  218.4   27.7       53.4   18.0\n",
       "21           22  237.4    5.1       23.5   12.5\n",
       "22           23   13.2   15.9       49.6    5.6\n",
       "23           24  228.3   16.9       26.2   15.5\n",
       "24           25   62.3   12.6       18.3    9.7\n",
       "25           26  262.9    3.5       19.5   12.0\n",
       "26           27  142.9   29.3       12.6   15.0\n",
       "27           28  240.1   16.7       22.9   15.9\n",
       "28           29  248.8   27.1       22.9   18.9\n",
       "29           30   70.6   16.0       40.8   10.5\n",
       "..          ...    ...    ...        ...    ...\n",
       "170         171   50.0   11.6       18.4    8.4\n",
       "171         172  164.5   20.9       47.4   14.5\n",
       "172         173   19.6   20.1       17.0    7.6\n",
       "173         174  168.4    7.1       12.8   11.7\n",
       "174         175  222.4    3.4       13.1   11.5\n",
       "175         176  276.9   48.9       41.8   27.0\n",
       "176         177  248.4   30.2       20.3   20.2\n",
       "177         178  170.2    7.8       35.2   11.7\n",
       "178         179  276.7    2.3       23.7   11.8\n",
       "179         180  165.6   10.0       17.6   12.6\n",
       "180         181  156.6    2.6        8.3   10.5\n",
       "181         182  218.5    5.4       27.4   12.2\n",
       "182         183   56.2    5.7       29.7    8.7\n",
       "183         184  287.6   43.0       71.8   26.2\n",
       "184         185  253.8   21.3       30.0   17.6\n",
       "185         186  205.0   45.1       19.6   22.6\n",
       "186         187  139.5    2.1       26.6   10.3\n",
       "187         188  191.1   28.7       18.2   17.3\n",
       "188         189  286.0   13.9        3.7   15.9\n",
       "189         190   18.7   12.1       23.4    6.7\n",
       "190         191   39.5   41.1        5.8   10.8\n",
       "191         192   75.5   10.8        6.0    9.9\n",
       "192         193   17.2    4.1       31.6    5.9\n",
       "193         194  166.8   42.0        3.6   19.6\n",
       "194         195  149.7   35.6        6.0   17.3\n",
       "195         196   38.2    3.7       13.8    7.6\n",
       "196         197   94.2    4.9        8.1    9.7\n",
       "197         198  177.0    9.3        6.4   12.8\n",
       "198         199  283.6   42.0       66.2   25.5\n",
       "199         200  232.1    8.6        8.7   13.4\n",
       "\n",
       "[200 rows x 5 columns]"
      ]
     },
     "execution_count": 3,
     "metadata": {},
     "output_type": "execute_result"
    }
   ],
   "source": [
    "df"
   ]
  },
  {
   "cell_type": "markdown",
   "metadata": {},
   "source": [
    "# Delete all unnecessary columns and display data"
   ]
  },
  {
   "cell_type": "code",
   "execution_count": 4,
   "metadata": {},
   "outputs": [],
   "source": [
    "df.drop(['Unnamed: 0','radio','newspaper'],axis = 1 , inplace=True)"
   ]
  },
  {
   "cell_type": "code",
   "execution_count": 64,
   "metadata": {},
   "outputs": [
    {
     "data": {
      "text/html": [
       "<div>\n",
       "<style scoped>\n",
       "    .dataframe tbody tr th:only-of-type {\n",
       "        vertical-align: middle;\n",
       "    }\n",
       "\n",
       "    .dataframe tbody tr th {\n",
       "        vertical-align: top;\n",
       "    }\n",
       "\n",
       "    .dataframe thead th {\n",
       "        text-align: right;\n",
       "    }\n",
       "</style>\n",
       "<table border=\"1\" class=\"dataframe\">\n",
       "  <thead>\n",
       "    <tr style=\"text-align: right;\">\n",
       "      <th></th>\n",
       "      <th>TV</th>\n",
       "      <th>sales</th>\n",
       "    </tr>\n",
       "  </thead>\n",
       "  <tbody>\n",
       "    <tr>\n",
       "      <th>0</th>\n",
       "      <td>230.1</td>\n",
       "      <td>22.1</td>\n",
       "    </tr>\n",
       "    <tr>\n",
       "      <th>1</th>\n",
       "      <td>44.5</td>\n",
       "      <td>10.4</td>\n",
       "    </tr>\n",
       "    <tr>\n",
       "      <th>2</th>\n",
       "      <td>17.2</td>\n",
       "      <td>9.3</td>\n",
       "    </tr>\n",
       "    <tr>\n",
       "      <th>3</th>\n",
       "      <td>151.5</td>\n",
       "      <td>18.5</td>\n",
       "    </tr>\n",
       "    <tr>\n",
       "      <th>4</th>\n",
       "      <td>180.8</td>\n",
       "      <td>12.9</td>\n",
       "    </tr>\n",
       "  </tbody>\n",
       "</table>\n",
       "</div>"
      ],
      "text/plain": [
       "      TV  sales\n",
       "0  230.1   22.1\n",
       "1   44.5   10.4\n",
       "2   17.2    9.3\n",
       "3  151.5   18.5\n",
       "4  180.8   12.9"
      ]
     },
     "execution_count": 64,
     "metadata": {},
     "output_type": "execute_result"
    }
   ],
   "source": [
    "df.head()"
   ]
  },
  {
   "cell_type": "code",
   "execution_count": 6,
   "metadata": {},
   "outputs": [
    {
     "data": {
      "text/plain": [
       "200"
      ]
     },
     "execution_count": 6,
     "metadata": {},
     "output_type": "execute_result"
    }
   ],
   "source": [
    "len(df)"
   ]
  },
  {
   "cell_type": "code",
   "execution_count": null,
   "metadata": {},
   "outputs": [],
   "source": []
  },
  {
   "cell_type": "code",
   "execution_count": null,
   "metadata": {},
   "outputs": [],
   "source": []
  },
  {
   "cell_type": "code",
   "execution_count": null,
   "metadata": {},
   "outputs": [],
   "source": []
  },
  {
   "cell_type": "markdown",
   "metadata": {},
   "source": [
    "# Prepare training data"
   ]
  },
  {
   "cell_type": "code",
   "execution_count": 7,
   "metadata": {},
   "outputs": [],
   "source": [
    "from sklearn.model_selection import train_test_split\n",
    "\n",
    "X = df['TV']\n",
    "Y = df['sales']\n",
    "\n",
    "X_train, X_test, Y_train, Y_test = train_test_split(X, Y, test_size = 0.2)"
   ]
  },
  {
   "cell_type": "markdown",
   "metadata": {},
   "source": [
    "# Define regression model"
   ]
  },
  {
   "cell_type": "code",
   "execution_count": 8,
   "metadata": {},
   "outputs": [
    {
     "name": "stderr",
     "output_type": "stream",
     "text": [
      "Using TensorFlow backend.\n"
     ]
    }
   ],
   "source": [
    "from keras.layers import Dense\n",
    "from keras.models import Sequential\n",
    "from keras import optimizers\n",
    "        \n",
    "def LinearRegression():\n",
    "    model = Sequential()\n",
    "    model.add(Dense(1, activation = 'linear', use_bias = True, \n",
    "                    input_dim = 1))\n",
    "    model.compile(optimizer = optimizers.RMSprop(lr = 0.01), \n",
    "                  loss = 'mean_squared_error', metrics = ['mae'])\n",
    "    return model \n",
    "\n",
    "model = LinearRegression()"
   ]
  },
  {
   "cell_type": "markdown",
   "metadata": {},
   "source": [
    "# Define callback"
   ]
  },
  {
   "cell_type": "code",
   "execution_count": 9,
   "metadata": {},
   "outputs": [],
   "source": [
    "params_history = []\n",
    "weights_history = []\n",
    "bias_history = []\n",
    "\n",
    "class MyCallback(keras.callbacks.Callback):\n",
    "    def on_batch_end(self, batch, logs):\n",
    "        weight, bias = model.get_weights()\n",
    "        B = bias[0] \n",
    "        W = weight[0][0]\n",
    "        params = [W, B]\n",
    "        params_history.append(params)\n",
    "        weights_history.append(W)\n",
    "        bias_history.append(B)\n",
    "        \n",
    "callback = MyCallback()"
   ]
  },
  {
   "cell_type": "code",
   "execution_count": 10,
   "metadata": {},
   "outputs": [
    {
     "name": "stdout",
     "output_type": "stream",
     "text": [
      "Epoch 1/10\n",
      "160/160 [==============================] - 0s 616us/step - loss: 17532.3409 - mean_absolute_error: 115.9347\n",
      "Epoch 2/10\n",
      "160/160 [==============================] - 0s 124us/step - loss: 10601.8944 - mean_absolute_error: 90.2615\n",
      "Epoch 3/10\n",
      "160/160 [==============================] - 0s 198us/step - loss: 6206.2136 - mean_absolute_error: 69.5215\n",
      "Epoch 4/10\n",
      "160/160 [==============================] - 0s 227us/step - loss: 3191.3705 - mean_absolute_error: 49.9227\n",
      "Epoch 5/10\n",
      "160/160 [==============================] - 0s 215us/step - loss: 1288.0361 - mean_absolute_error: 31.7791\n",
      "Epoch 6/10\n",
      "160/160 [==============================] - 0s 183us/step - loss: 342.8396 - mean_absolute_error: 16.4852\n",
      "Epoch 7/10\n",
      "160/160 [==============================] - 0s 238us/step - loss: 53.0198 - mean_absolute_error: 6.2254\n",
      "Epoch 8/10\n",
      "160/160 [==============================] - 0s 192us/step - loss: 20.3497 - mean_absolute_error: 3.8213\n",
      "Epoch 9/10\n",
      "160/160 [==============================] - 0s 175us/step - loss: 19.6796 - mean_absolute_error: 3.7557\n",
      "Epoch 10/10\n",
      "160/160 [==============================] - 0s 208us/step - loss: 21.8875 - mean_absolute_error: 3.8433\n"
     ]
    }
   ],
   "source": [
    "MODEL = model.fit(X_train, Y_train, epochs = 10, batch_size = 10, verbose = True, callbacks=[callback])"
   ]
  },
  {
   "cell_type": "code",
   "execution_count": null,
   "metadata": {},
   "outputs": [],
   "source": []
  },
  {
   "cell_type": "code",
   "execution_count": null,
   "metadata": {},
   "outputs": [],
   "source": []
  },
  {
   "cell_type": "code",
   "execution_count": null,
   "metadata": {},
   "outputs": [],
   "source": []
  },
  {
   "cell_type": "code",
   "execution_count": null,
   "metadata": {},
   "outputs": [],
   "source": []
  },
  {
   "cell_type": "code",
   "execution_count": 11,
   "metadata": {},
   "outputs": [],
   "source": [
    "%matplotlib inline"
   ]
  },
  {
   "cell_type": "code",
   "execution_count": 12,
   "metadata": {},
   "outputs": [
    {
     "data": {
      "image/png": "[encoded data removed]",
      "text/plain": [
       "<Figure size 432x288 with 1 Axes>"
      ]
     },
     "metadata": {
      "needs_background": "light"
     },
     "output_type": "display_data"
    }
   ],
   "source": [
    "import matplotlib.pyplot as plt\n",
    "import numpy as np\n",
    "\n",
    "area = np.pi * 1**2\n",
    "\n",
    "fig, ax = plt.subplots()\n",
    "\n",
    "ax.scatter(X_train,Y_train,s = area, color = 'red')\n",
    "ax.plot(X_test,model.predict(X_test),'b')\n",
    "\n",
    "ax.spines['left'].set_position('zero')\n",
    "\n",
    "ax.spines['right']\n",
    "ax.yaxis.tick_left()\n",
    "\n",
    "ax.spines['bottom'].set_position('zero')\n",
    "\n",
    "ax.spines['top']\n",
    "ax.xaxis.tick_bottom()\n",
    "\n",
    "plt.show()"
   ]
  },
  {
   "cell_type": "code",
   "execution_count": 13,
   "metadata": {},
   "outputs": [],
   "source": [
    "weight_matrix,bias_matrix = model.get_weights()"
   ]
  },
  {
   "cell_type": "code",
   "execution_count": 14,
   "metadata": {
    "scrolled": true
   },
   "outputs": [],
   "source": [
    "W = weight_matrix[0][0]"
   ]
  },
  {
   "cell_type": "code",
   "execution_count": 15,
   "metadata": {},
   "outputs": [],
   "source": [
    "B = bias_matrix[0]"
   ]
  },
  {
   "cell_type": "markdown",
   "metadata": {},
   "source": [
    "# Result obtained from prediction"
   ]
  },
  {
   "cell_type": "code",
   "execution_count": 16,
   "metadata": {},
   "outputs": [],
   "source": [
    "model_ans = model.predict([100])"
   ]
  },
  {
   "cell_type": "markdown",
   "metadata": {},
   "source": [
    "# Verifying if the returned params(weight + bias) is correct"
   ]
  },
  {
   "cell_type": "markdown",
   "metadata": {},
   "source": [
    "# y = mx + c ~ y = Wx + B"
   ]
  },
  {
   "cell_type": "markdown",
   "metadata": {},
   "source": [
    "# Result obtained from linear algebra"
   ]
  },
  {
   "cell_type": "code",
   "execution_count": 17,
   "metadata": {},
   "outputs": [],
   "source": [
    "manual_ans = 100*W + B"
   ]
  },
  {
   "cell_type": "code",
   "execution_count": 18,
   "metadata": {},
   "outputs": [
    {
     "data": {
      "text/plain": [
       "array([[7.9813137]], dtype=float32)"
      ]
     },
     "execution_count": 18,
     "metadata": {},
     "output_type": "execute_result"
    }
   ],
   "source": [
    "model_ans"
   ]
  },
  {
   "cell_type": "code",
   "execution_count": 19,
   "metadata": {},
   "outputs": [
    {
     "data": {
      "text/plain": [
       "7.981314152479172"
      ]
     },
     "execution_count": 19,
     "metadata": {},
     "output_type": "execute_result"
    }
   ],
   "source": [
    "manual_ans"
   ]
  },
  {
   "cell_type": "code",
   "execution_count": 20,
   "metadata": {},
   "outputs": [
    {
     "data": {
      "text/plain": [
       "[[-0.7770129, 0.03162277],\n",
       " [-0.75634146, 0.053079467],\n",
       " [-0.73428273, 0.07277463],\n",
       " [-0.7164219, 0.08899389],\n",
       " [-0.70474535, 0.1031903]]"
      ]
     },
     "execution_count": 20,
     "metadata": {},
     "output_type": "execute_result"
    }
   ],
   "source": [
    "params_history[:5]"
   ]
  },
  {
   "cell_type": "code",
   "execution_count": 21,
   "metadata": {},
   "outputs": [
    {
     "data": {
      "text/plain": [
       "[-0.7770129, -0.75634146, -0.73428273, -0.7164219, -0.70474535]"
      ]
     },
     "execution_count": 21,
     "metadata": {},
     "output_type": "execute_result"
    }
   ],
   "source": [
    "weights_history[:5]"
   ]
  },
  {
   "cell_type": "code",
   "execution_count": 22,
   "metadata": {},
   "outputs": [
    {
     "data": {
      "text/plain": [
       "[0.03162277, 0.053079467, 0.07277463, 0.08899389, 0.1031903]"
      ]
     },
     "execution_count": 22,
     "metadata": {},
     "output_type": "execute_result"
    }
   ],
   "source": [
    "bias_history[:5]"
   ]
  },
  {
   "cell_type": "markdown",
   "metadata": {},
   "source": [
    "# Weight learned through iterations"
   ]
  },
  {
   "cell_type": "code",
   "execution_count": 23,
   "metadata": {},
   "outputs": [
    {
     "data": {
      "text/plain": [
       "[<matplotlib.lines.Line2D at 0x7f87ac149050>]"
      ]
     },
     "execution_count": 23,
     "metadata": {},
     "output_type": "execute_result"
    },
    {
     "data": {
      "image/png": "[encoded data removed]",
      "text/plain": [
       "<Figure size 432x288 with 1 Axes>"
      ]
     },
     "metadata": {
      "needs_background": "light"
     },
     "output_type": "display_data"
    }
   ],
   "source": [
    "plt.xlabel(\"No. of iterations\")\n",
    "plt.ylabel(\"Learned weight\")\n",
    "plt.plot(weights_history)"
   ]
  },
  {
   "cell_type": "markdown",
   "metadata": {},
   "source": [
    "# Bias learned through iterations"
   ]
  },
  {
   "cell_type": "code",
   "execution_count": 24,
   "metadata": {},
   "outputs": [
    {
     "data": {
      "text/plain": [
       "[<matplotlib.lines.Line2D at 0x7f87ac0c1f50>]"
      ]
     },
     "execution_count": 24,
     "metadata": {},
     "output_type": "execute_result"
    },
    {
     "data": {
      "image/png": "[encoded data removed]",
      "text/plain": [
       "<Figure size 432x288 with 1 Axes>"
      ]
     },
     "metadata": {
      "needs_background": "light"
     },
     "output_type": "display_data"
    }
   ],
   "source": [
    "plt.xlabel(\"No. of iterations\")\n",
    "plt.ylabel(\"Learned bias\")\n",
    "plt.plot(bias_history, 'orange')"
   ]
  },
  {
   "cell_type": "markdown",
   "metadata": {},
   "source": [
    "# Weight + Bias learned through iterations"
   ]
  },
  {
   "cell_type": "markdown",
   "metadata": {},
   "source": [
    "## blue -> weight\n",
    "## orange -> bias"
   ]
  },
  {
   "cell_type": "code",
   "execution_count": 25,
   "metadata": {},
   "outputs": [
    {
     "data": {
      "text/plain": [
       "[<matplotlib.lines.Line2D at 0x7f87ac03bdd0>,\n",
       " <matplotlib.lines.Line2D at 0x7f87ac03be90>]"
      ]
     },
     "execution_count": 25,
     "metadata": {},
     "output_type": "execute_result"
    },
    {
     "data": {
      "image/png": "[encoded data removed]",
      "text/plain": [
       "<Figure size 432x288 with 1 Axes>"
      ]
     },
     "metadata": {
      "needs_background": "light"
     },
     "output_type": "display_data"
    }
   ],
   "source": [
    "plt.xlabel(\"No. of iterations\")\n",
    "plt.ylabel(\"Params\")\n",
    "plt.plot(params_history)"
   ]
  },
  {
   "cell_type": "code",
   "execution_count": null,
   "metadata": {},
   "outputs": [],
   "source": []
  },
  {
   "cell_type": "code",
   "execution_count": null,
   "metadata": {},
   "outputs": [],
   "source": []
  },
  {
   "cell_type": "markdown",
   "metadata": {},
   "source": [
    "# Cost minimization through iterations"
   ]
  },
  {
   "cell_type": "markdown",
   "metadata": {},
   "source": [
    "## MAE gives a better intuition than MSE"
   ]
  },
  {
   "cell_type": "code",
   "execution_count": 62,
   "metadata": {},
   "outputs": [],
   "source": [
    "dummy_cost_function = MODEL.history['mean_absolute_error']"
   ]
  },
  {
   "cell_type": "code",
   "execution_count": 63,
   "metadata": {},
   "outputs": [
    {
     "data": {
      "text/plain": [
       "[<matplotlib.lines.Line2D at 0x7f8786e9bcd0>]"
      ]
     },
     "execution_count": 63,
     "metadata": {},
     "output_type": "execute_result"
    },
    {
     "data": {
      "image/png": "[encoded data removed]",
      "text/plain": [
       "<Figure size 432x288 with 1 Axes>"
      ]
     },
     "metadata": {
      "needs_background": "light"
     },
     "output_type": "display_data"
    }
   ],
   "source": [
    "plt.plot(dummy_cost_function)"
   ]
  },
  {
   "cell_type": "code",
   "execution_count": null,
   "metadata": {},
   "outputs": [],
   "source": []
  },
  {
   "cell_type": "code",
   "execution_count": 61,
   "metadata": {},
   "outputs": [
    {
     "data": {
      "image/png": "[encoded data removed]",
      "text/plain": [
       "<Figure size 1440x576 with 1 Axes>"
      ]
     },
     "metadata": {
      "needs_background": "light"
     },
     "output_type": "display_data"
    }
   ],
   "source": [
    "def costfunction(x,y,theta):\n",
    "    \n",
    "    m = np.size(y)\n",
    "    h = np.dot(x,theta)\n",
    "    \n",
    "    J = float(np.dot((h - y).T,(h - y))/(m*2)); \n",
    "    #print(J)\n",
    "    return J;\n",
    "\n",
    "XX = np.array(X_train.tolist())\n",
    "YY = np.array(Y_train.tolist())\n",
    "\n",
    "XX_1 = np.vstack((np.ones(len(XX)), XX)).T\n",
    "\n",
    "#Setup of meshgrid of theta values\n",
    "T0, T1 = np.meshgrid(np.linspace(-100,100, 7),np.linspace(-0.8,0.8,7))\n",
    "\n",
    "#Computing the cost function for each theta combination\n",
    "zs = np.array(  [costfunction(XX_1, YY.reshape(-1,1),np.array([t0,t1]).reshape(-1,1)) \n",
    "                     for t0, t1 in zip(np.ravel(T0), np.ravel(T1)) ] )\n",
    "\n",
    "#Reshaping the cost values    \n",
    "Z = zs.reshape(T0.shape)\n",
    "\n",
    "anglesx = np.array(bias_history)[1:] - np.array(bias_history)[:-1]\n",
    "anglesy = np.array(weights_history)[1:] - np.array(weights_history)[:-1]\n",
    "\n",
    "fig = plt.figure(figsize = (20,8))\n",
    "\n",
    "#Contour plot\n",
    "ax = fig.add_subplot(1, 2, 2)\n",
    "cp = ax.contour(T0, T1, Z, 30, cmap = 'jet')\n",
    "ax.clabel(cp, inline=True, fontsize=10)\n",
    "plt.xlabel(\"Bias\")\n",
    "plt.ylabel(\"Weight\")\n",
    "#ax.quiver()\n",
    "ax.quiver(bias_history[:-1], weights_history[:-1], anglesx, anglesy, scale_units = 'xy', angles = 'xy', scale = 1, color = 'r', alpha = .9)\n",
    "\n",
    "\n",
    "plt.show()"
   ]
  },
  {
   "cell_type": "code",
   "execution_count": null,
   "metadata": {},
   "outputs": [],
   "source": []
  },
  {
   "cell_type": "code",
   "execution_count": null,
   "metadata": {},
   "outputs": [],
   "source": []
  },
  {
   "cell_type": "code",
   "execution_count": null,
   "metadata": {},
   "outputs": [],
   "source": []
  },
  {
   "cell_type": "code",
   "execution_count": 33,
   "metadata": {},
   "outputs": [
    {
     "data": {
      "text/plain": [
       "[-0.7770129,\n",
       " -0.75634146,\n",
       " -0.73428273,\n",
       " -0.7164219,\n",
       " -0.70474535,\n",
       " -0.68610704,\n",
       " -0.67012405,\n",
       " -0.6564005,\n",
       " -0.6419568,\n",
       " -0.63349223,\n",
       " -0.62250406,\n",
       " -0.61286765,\n",
       " -0.6083163,\n",
       " -0.5992432,\n",
       " -0.5874036,\n",
       " -0.5780732,\n",
       " -0.5695756,\n",
       " -0.5596631,\n",
       " -0.55260074,\n",
       " -0.5413583,\n",
       " -0.53206426,\n",
       " -0.5210778,\n",
       " -0.5103699,\n",
       " -0.49852282,\n",
       " -0.48599714,\n",
       " -0.47934842,\n",
       " -0.47179857,\n",
       " -0.46602273,\n",
       " -0.45828375,\n",
       " -0.4520523,\n",
       " -0.44245458,\n",
       " -0.43358532,\n",
       " -0.42687064,\n",
       " -0.41972634,\n",
       " -0.41072255,\n",
       " -0.39747387,\n",
       " -0.3892844,\n",
       " -0.38294122,\n",
       " -0.37591794,\n",
       " -0.3696247,\n",
       " -0.35777724,\n",
       " -0.35071313,\n",
       " -0.3425876,\n",
       " -0.33446586,\n",
       " -0.32176638,\n",
       " -0.31594452,\n",
       " -0.30627927,\n",
       " -0.29925415,\n",
       " -0.29000315,\n",
       " -0.27900773,\n",
       " -0.27403876,\n",
       " -0.26543686,\n",
       " -0.25977132,\n",
       " -0.25179315,\n",
       " -0.24418342,\n",
       " -0.23610517,\n",
       " -0.230003,\n",
       " -0.22310847,\n",
       " -0.21633594,\n",
       " -0.20881465,\n",
       " -0.20039427,\n",
       " -0.19333728,\n",
       " -0.1845873,\n",
       " -0.17530535,\n",
       " -0.16565357,\n",
       " -0.15947138,\n",
       " -0.15015611,\n",
       " -0.14422339,\n",
       " -0.13985494,\n",
       " -0.13277352,\n",
       " -0.12726031,\n",
       " -0.11925242,\n",
       " -0.10964628,\n",
       " -0.10604952,\n",
       " -0.09744685,\n",
       " -0.09129858,\n",
       " -0.0827706,\n",
       " -0.07488549,\n",
       " -0.06807719,\n",
       " -0.064267695,\n",
       " -0.056233775,\n",
       " -0.050306346,\n",
       " -0.044904616,\n",
       " -0.041758403,\n",
       " -0.03306006,\n",
       " -0.026642157,\n",
       " -0.02124281,\n",
       " -0.01325713,\n",
       " -0.006164441,\n",
       " -0.00080450904,\n",
       " 0.0029211668,\n",
       " 0.0052991584,\n",
       " 0.0117728375,\n",
       " 0.016853785,\n",
       " 0.020147817,\n",
       " 0.023623357,\n",
       " 0.026226174,\n",
       " 0.03243266,\n",
       " 0.037833456,\n",
       " 0.04149185,\n",
       " 0.046476014,\n",
       " 0.05023708,\n",
       " 0.05328061,\n",
       " 0.05495233,\n",
       " 0.057788704,\n",
       " 0.06038413,\n",
       " 0.061580762,\n",
       " 0.06421415,\n",
       " 0.066267386,\n",
       " 0.0681758,\n",
       " 0.069654204,\n",
       " 0.07042508,\n",
       " 0.07288163,\n",
       " 0.072959885,\n",
       " 0.07326852,\n",
       " 0.07237158,\n",
       " 0.073927455,\n",
       " 0.07631051,\n",
       " 0.07580819,\n",
       " 0.07511309,\n",
       " 0.07630912,\n",
       " 0.07736674,\n",
       " 0.07723768,\n",
       " 0.080537416,\n",
       " 0.08305671,\n",
       " 0.08430611,\n",
       " 0.07670604,\n",
       " 0.08049083,\n",
       " 0.079750754,\n",
       " 0.08103082,\n",
       " 0.08007236,\n",
       " 0.08203653,\n",
       " 0.08308415,\n",
       " 0.082392894,\n",
       " 0.087455146,\n",
       " 0.084113315,\n",
       " 0.081509195,\n",
       " 0.07068686,\n",
       " 0.07463493,\n",
       " 0.075223565,\n",
       " 0.0697529,\n",
       " 0.06911115,\n",
       " 0.07883694,\n",
       " 0.083493926,\n",
       " 0.08567331,\n",
       " 0.08964755,\n",
       " 0.07526374,\n",
       " 0.08739787,\n",
       " 0.08000596,\n",
       " 0.08392479,\n",
       " 0.07513515,\n",
       " 0.06815827,\n",
       " 0.08045153,\n",
       " 0.08071139,\n",
       " 0.088115685,\n",
       " 0.0691693,\n",
       " 0.078522615,\n",
       " 0.073338106,\n",
       " 0.08129026,\n",
       " 0.06887352]"
      ]
     },
     "execution_count": 33,
     "metadata": {},
     "output_type": "execute_result"
    }
   ],
   "source": [
    "weights_history"
   ]
  },
  {
   "cell_type": "code",
   "execution_count": 34,
   "metadata": {},
   "outputs": [
    {
     "data": {
      "text/plain": [
       "[0.03162277,\n",
       " 0.053079467,\n",
       " 0.07277463,\n",
       " 0.08899389,\n",
       " 0.1031903,\n",
       " 0.119292036,\n",
       " 0.13446398,\n",
       " 0.14776562,\n",
       " 0.16157272,\n",
       " 0.17118877,\n",
       " 0.18165751,\n",
       " 0.19198178,\n",
       " 0.19738692,\n",
       " 0.20667724,\n",
       " 0.21869406,\n",
       " 0.22827768,\n",
       " 0.23708197,\n",
       " 0.24709025,\n",
       " 0.25520346,\n",
       " 0.26640013,\n",
       " 0.27583387,\n",
       " 0.286186,\n",
       " 0.2960413,\n",
       " 0.30734974,\n",
       " 0.31846523,\n",
       " 0.32565832,\n",
       " 0.33440086,\n",
       " 0.34126836,\n",
       " 0.34995878,\n",
       " 0.35741803,\n",
       " 0.36645854,\n",
       " 0.37582952,\n",
       " 0.38302258,\n",
       " 0.39138234,\n",
       " 0.4003407,\n",
       " 0.41208857,\n",
       " 0.4202683,\n",
       " 0.42798623,\n",
       " 0.43616748,\n",
       " 0.44362858,\n",
       " 0.45409435,\n",
       " 0.46126807,\n",
       " 0.47034338,\n",
       " 0.478601,\n",
       " 0.4896933,\n",
       " 0.4953466,\n",
       " 0.5047304,\n",
       " 0.5124715,\n",
       " 0.5221722,\n",
       " 0.5322126,\n",
       " 0.53814846,\n",
       " 0.5464877,\n",
       " 0.55281925,\n",
       " 0.5602121,\n",
       " 0.56835365,\n",
       " 0.57703,\n",
       " 0.58409077,\n",
       " 0.5912635,\n",
       " 0.59878737,\n",
       " 0.60680574,\n",
       " 0.61555463,\n",
       " 0.6228031,\n",
       " 0.6311558,\n",
       " 0.6394452,\n",
       " 0.64862347,\n",
       " 0.65560335,\n",
       " 0.66463953,\n",
       " 0.67108655,\n",
       " 0.6769055,\n",
       " 0.6835659,\n",
       " 0.6896263,\n",
       " 0.69726545,\n",
       " 0.7060268,\n",
       " 0.71150523,\n",
       " 0.7194607,\n",
       " 0.7263139,\n",
       " 0.7344376,\n",
       " 0.74218905,\n",
       " 0.74932736,\n",
       " 0.7542626,\n",
       " 0.7618068,\n",
       " 0.76794213,\n",
       " 0.77393055,\n",
       " 0.778341,\n",
       " 0.78632724,\n",
       " 0.79302686,\n",
       " 0.7989008,\n",
       " 0.8064524,\n",
       " 0.81322914,\n",
       " 0.81895393,\n",
       " 0.8240963,\n",
       " 0.8281882,\n",
       " 0.83410484,\n",
       " 0.83942217,\n",
       " 0.8438944,\n",
       " 0.8484431,\n",
       " 0.8529346,\n",
       " 0.8591434,\n",
       " 0.8641048,\n",
       " 0.8681708,\n",
       " 0.8734891,\n",
       " 0.87833464,\n",
       " 0.8825031,\n",
       " 0.8849281,\n",
       " 0.88821375,\n",
       " 0.8912632,\n",
       " 0.8944892,\n",
       " 0.89763397,\n",
       " 0.9013204,\n",
       " 0.90491354,\n",
       " 0.90736336,\n",
       " 0.9092305,\n",
       " 0.9127512,\n",
       " 0.9152457,\n",
       " 0.91698223,\n",
       " 0.9181994,\n",
       " 0.92192066,\n",
       " 0.92656416,\n",
       " 0.9281586,\n",
       " 0.92958826,\n",
       " 0.9338033,\n",
       " 0.93575597,\n",
       " 0.93831384,\n",
       " 0.9433595,\n",
       " 0.94963145,\n",
       " 0.9504436,\n",
       " 0.94788843,\n",
       " 0.95248365,\n",
       " 0.9554435,\n",
       " 0.9603304,\n",
       " 0.9618604,\n",
       " 0.96754545,\n",
       " 0.9724287,\n",
       " 0.97515994,\n",
       " 0.98595035,\n",
       " 0.9872618,\n",
       " 0.9868885,\n",
       " 0.98610955,\n",
       " 0.99825764,\n",
       " 1.001999,\n",
       " 0.999668,\n",
       " 1.0018489,\n",
       " 1.0134983,\n",
       " 1.019746,\n",
       " 1.0257192,\n",
       " 1.0340041,\n",
       " 1.0300479,\n",
       " 1.0464532,\n",
       " 1.0449228,\n",
       " 1.0533686,\n",
       " 1.0520263,\n",
       " 1.0528696,\n",
       " 1.068531,\n",
       " 1.0751464,\n",
       " 1.0843183,\n",
       " 1.075784,\n",
       " 1.0879518,\n",
       " 1.0895216,\n",
       " 1.0999655,\n",
       " 1.0939624]"
      ]
     },
     "execution_count": 34,
     "metadata": {},
     "output_type": "execute_result"
    }
   ],
   "source": [
    "bias_history"
   ]
  },
  {
   "cell_type": "markdown",
   "metadata": {},
   "source": [
    "# Bias(current) | Weight(current) => Cost(current)"
   ]
  },
  {
   "cell_type": "markdown",
   "metadata": {},
   "source": [
    "## minimization of cost can be observed"
   ]
  },
  {
   "cell_type": "code",
   "execution_count": 51,
   "metadata": {},
   "outputs": [
    {
     "name": "stdout",
     "output_type": "stream",
     "text": [
      "0.03162277 | -0.7770129 => 11182.3878474\n",
      "0.053079467 | -0.75634146 => 10649.3595571\n",
      "0.07277463 | -0.73428273 => 10095.3259839\n",
      "0.08899389 | -0.7164219 => 9657.54808173\n",
      "0.1031903 | -0.70474535 => 9376.16934638\n",
      "0.119292036 | -0.68610704 => 8936.42502742\n",
      "0.13446398 | -0.67012405 => 8567.59340068\n",
      "0.14776562 | -0.6564005 => 8257.07984297\n",
      "0.16157272 | -0.6419568 => 7936.49098415\n",
      "0.17118877 | -0.63349223 => 7751.40018459\n",
      "0.18165751 | -0.62250406 => 7514.60537042\n",
      "0.19198178 | -0.61286765 => 7309.84695727\n",
      "0.19738692 | -0.6083163 => 7214.06678405\n",
      "0.20667724 | -0.5992432 => 7025.17161349\n",
      "0.21869406 | -0.5874036 => 6782.46354167\n",
      "0.22827768 | -0.5780732 => 6594.19280666\n",
      "0.23708197 | -0.5695756 => 6425.02797389\n",
      "0.24709025 | -0.5596631 => 6230.50381259\n",
      "0.25520346 | -0.55260074 => 6093.64234078\n",
      "0.26640013 | -0.5413583 => 5879.0797871\n",
      "0.27583387 | -0.53206426 => 5704.59449633\n",
      "0.286186 | -0.5210778 => 5501.80549597\n",
      "0.2960413 | -0.5103699 => 5307.71675522\n",
      "0.30734974 | -0.49852282 => 5097.01246923\n",
      "0.31846523 | -0.48599714 => 4878.96209538\n",
      "0.32565832 | -0.47934842 => 4765.04871609\n",
      "0.33440086 | -0.47179857 => 4637.28219165\n",
      "0.34126836 | -0.46602273 => 4540.69701205\n",
      "0.34995878 | -0.45828375 => 4412.92277885\n",
      "0.35741803 | -0.4520523 => 4311.3288498\n",
      "0.36645854 | -0.44245458 => 4157.36980063\n",
      "0.37582952 | -0.43358532 => 4017.51014602\n",
      "0.38302258 | -0.42687064 => 3913.21401675\n",
      "0.39138234 | -0.41972634 => 3803.70010663\n",
      "0.4003407 | -0.41072255 => 3668.02092051\n",
      "0.41208857 | -0.39747387 => 3472.97266482\n",
      "0.4202683 | -0.3892844 => 3355.01248821\n",
      "0.42798623 | -0.38294122 => 3264.95198844\n",
      "0.43616748 | -0.37591794 => 3166.69478595\n",
      "0.44362858 | -0.3696247 => 3079.92105355\n",
      "0.45409435 | -0.35777724 => 2920.08631786\n",
      "0.46126807 | -0.35071313 => 2826.75543611\n",
      "0.47034338 | -0.3425876 => 2721.22811002\n",
      "0.478601 | -0.33446586 => 2617.8155283\n",
      "0.4896933 | -0.32176638 => 2460.25814926\n",
      "0.4953466 | -0.31594452 => 2389.63500753\n",
      "0.5047304 | -0.30627927 => 2274.66918289\n",
      "0.5124715 | -0.29925415 => 2192.83918177\n",
      "0.5221722 | -0.29000315 => 2087.40675318\n",
      "0.5322126 | -0.27900773 => 1965.57024067\n",
      "0.53814846 | -0.27403876 => 1911.64171892\n",
      "0.5464877 | -0.26543686 => 1820.17084916\n",
      "0.55281925 | -0.25977132 => 1761.111776\n",
      "0.5602121 | -0.25179315 => 1679.68439098\n",
      "0.56835365 | -0.24418342 => 1603.76876798\n",
      "0.57703 | -0.23610517 => 1525.10995509\n",
      "0.58409077 | -0.230003 => 1466.9874916\n",
      "0.5912635 | -0.22310847 => 1402.72350666\n",
      "0.59878737 | -0.21633594 => 1340.98559296\n",
      "0.60680574 | -0.20881465 => 1274.07732155\n",
      "0.61555463 | -0.20039427 => 1201.22768179\n",
      "0.6228031 | -0.19333728 => 1141.84205776\n",
      "0.6311558 | -0.1845873 => 1070.3441921\n",
      "0.6394452 | -0.17530535 => 997.07159306\n",
      "0.64862347 | -0.16565357 => 923.639732903\n",
      "0.65560335 | -0.15947138 => 878.054444058\n",
      "0.66463953 | -0.15015611 => 811.623197643\n",
      "0.67108655 | -0.14422339 => 770.668050492\n",
      "0.6769055 | -0.13985494 => 741.160665383\n",
      "0.6835659 | -0.13277352 => 694.660712576\n",
      "0.6896263 | -0.12726031 => 659.48724998\n",
      "0.69726545 | -0.11925242 => 610.086233808\n",
      "0.7060268 | -0.10964628 => 553.414824396\n",
      "0.71150523 | -0.10604952 => 532.853919651\n",
      "0.7194607 | -0.09744685 => 485.429303497\n",
      "0.7263139 | -0.09129858 => 452.884394826\n",
      "0.7344376 | -0.0827706 => 409.688124223\n",
      "0.74218905 | -0.07488549 => 371.71336162\n",
      "0.74932736 | -0.06807719 => 340.438113818\n",
      "0.7542626 | -0.064267695 => 323.53329802\n",
      "0.7618068 | -0.056233775 => 289.399426326\n",
      "0.76794213 | -0.050306346 => 265.46373422\n",
      "0.77393055 | -0.044904616 => 244.575696759\n",
      "0.778341 | -0.041758403 => 232.801583568\n",
      "0.78632724 | -0.03306006 => 201.903470455\n",
      "0.79302686 | -0.026642157 => 180.568930853\n",
      "0.7989008 | -0.02124281 => 163.589045652\n",
      "0.8064524 | -0.01325713 => 140.123403777\n",
      "0.81322914 | -0.006164441 => 120.909573499\n",
      "0.81895393 | -0.00080450904 => 107.398159037\n",
      "0.8240963 | 0.0029211668 => 98.5074518983\n",
      "0.8281882 | 0.0052991584 => 93.0445499357\n",
      "0.83410484 | 0.0117728375 => 79.1130465498\n",
      "0.83942217 | 0.016853785 => 69.0652461357\n",
      "0.8438944 | 0.020147817 => 62.9610801631\n",
      "0.8484431 | 0.023623357 => 56.8820375847\n",
      "0.8529346 | 0.026226174 => 52.5610170466\n",
      "0.8591434 | 0.03243266 => 43.1349647153\n",
      "0.8641048 | 0.037833456 => 35.8912163724\n",
      "0.8681708 | 0.04149185 => 31.4840115734\n",
      "0.8734891 | 0.046476014 => 26.1382197184\n",
      "0.87833464 | 0.05023708 => 22.6009533818\n",
      "0.8825031 | 0.05328061 => 20.0536824244\n",
      "0.8849281 | 0.05495233 => 18.7744083796\n",
      "0.88821375 | 0.057788704 => 16.8034936537\n",
      "0.8912632 | 0.06038413 => 15.2149861298\n",
      "0.8944892 | 0.061580762 => 14.5443793142\n",
      "0.89763397 | 0.06421415 => 13.2395666856\n",
      "0.9013204 | 0.066267386 => 12.3649289821\n",
      "0.90491354 | 0.0681758 => 11.6675852638\n",
      "0.90736336 | 0.069654204 => 11.2053016193\n",
      "0.9092305 | 0.07042508 => 10.9892185944\n",
      "0.9127512 | 0.07288163 => 10.4289653372\n",
      "0.9152457 | 0.072959885 => 10.4084811969\n",
      "0.91698223 | 0.07326852 => 10.3489856396\n",
      "0.9181994 | 0.07237158 => 10.5148424219\n",
      "0.92192066 | 0.073927455 => 10.2293868137\n",
      "0.92656416 | 0.07631051 => 9.93915999772\n",
      "0.9281586 | 0.07580819 => 9.98081135701\n",
      "0.92958826 | 0.07511309 => 10.0521985897\n",
      "0.9338033 | 0.07630912 => 9.92579547211\n",
      "0.93575597 | 0.07736674 => 9.8542693722\n",
      "0.93831384 | 0.07723768 => 9.85635933994\n",
      "0.9433595 | 0.080537416 => 9.8437271737\n",
      "0.94963145 | 0.08305671 => 10.0566410152\n",
      "0.9504436 | 0.08430611 => 10.2365168661\n",
      "0.94788843 | 0.07670604 => 9.87100766953\n",
      "0.95248365 | 0.08049083 => 9.83040595329\n",
      "0.9554435 | 0.079750754 => 9.79883796973\n",
      "0.9603304 | 0.08103082 => 9.85218124033\n",
      "0.9618604 | 0.08007236 => 9.80083498222\n",
      "0.96754545 | 0.08203653 => 9.92685189408\n",
      "0.9724287 | 0.08308415 => 10.0415693582\n",
      "0.97515994 | 0.082392894 => 9.95659219534\n",
      "0.98595035 | 0.087455146 => 10.8952706203\n",
      "0.9872618 | 0.084113315 => 10.1816422287\n",
      "0.9868885 | 0.081509195 => 9.85967600779\n",
      "0.98610955 | 0.07068686 => 10.7150022285\n",
      "0.99825764 | 0.07463493 => 9.96886999014\n",
      "1.001999 | 0.075223565 => 9.89539235721\n",
      "0.999668 | 0.0697529 => 10.9166546308\n",
      "1.0018489 | 0.06911115 => 11.0888384147\n",
      "1.0134983 | 0.07883694 => 9.70420458109\n",
      "1.019746 | 0.083493926 => 10.0634041722\n",
      "1.0257192 | 0.08567331 => 10.45820978\n",
      "1.0340041 | 0.08964755 => 11.5566570097\n",
      "1.0300479 | 0.07526374 => 9.83706167137\n",
      "1.0464532 | 0.08739787 => 10.8736056797\n",
      "1.0449228 | 0.08000596 => 9.69601055036\n",
      "1.0533686 | 0.08392479 => 10.1099799565\n",
      "1.0520263 | 0.07513515 => 9.80749316657\n",
      "1.0528696 | 0.06815827 => 11.223890718\n",
      "1.068531 | 0.08045153 => 9.69403646117\n",
      "1.0751464 | 0.08071139 => 9.70488958923\n",
      "1.0843183 | 0.088115685 => 11.0777735901\n",
      "1.075784 | 0.0691693 => 10.8632282635\n",
      "1.0879518 | 0.078522615 => 9.59837102564\n",
      "1.0895216 | 0.073338106 => 9.95124356135\n",
      "1.0999655 | 0.08129026 => 9.72884508722\n",
      "1.0939624 | 0.06887352 => 10.8944113512\n"
     ]
    }
   ],
   "source": [
    "for W,B in zip(weights_history,bias_history):\n",
    "    print( str(B) + \" | \" + str(W) + \" => \" + str(costfunction(XX_1, YY.reshape(-1,1),np.array([B,W]).reshape(-1,1))))"
   ]
  },
  {
   "cell_type": "code",
   "execution_count": null,
   "metadata": {},
   "outputs": [],
   "source": []
  },
  {
   "cell_type": "code",
   "execution_count": null,
   "metadata": {},
   "outputs": [],
   "source": []
  },
  {
   "cell_type": "code",
   "execution_count": null,
   "metadata": {},
   "outputs": [],
   "source": []
  },
  {
   "cell_type": "code",
   "execution_count": null,
   "metadata": {},
   "outputs": [],
   "source": []
  },
  {
   "cell_type": "code",
   "execution_count": null,
   "metadata": {},
   "outputs": [],
   "source": []
  },
  {
   "cell_type": "code",
   "execution_count": null,
   "metadata": {},
   "outputs": [],
   "source": []
  },
  {
   "cell_type": "code",
   "execution_count": null,
   "metadata": {},
   "outputs": [],
   "source": []
  },
  {
   "cell_type": "code",
   "execution_count": null,
   "metadata": {},
   "outputs": [],
   "source": []
  },
  {
   "cell_type": "code",
   "execution_count": null,
   "metadata": {},
   "outputs": [],
   "source": []
  },
  {
   "cell_type": "code",
   "execution_count": null,
   "metadata": {},
   "outputs": [],
   "source": []
  },
  {
   "cell_type": "code",
   "execution_count": null,
   "metadata": {},
   "outputs": [],
   "source": []
  },
  {
   "cell_type": "code",
   "execution_count": null,
   "metadata": {},
   "outputs": [],
   "source": []
  },
  {
   "cell_type": "code",
   "execution_count": null,
   "metadata": {},
   "outputs": [],
   "source": []
  },
  {
   "cell_type": "code",
   "execution_count": null,
   "metadata": {},
   "outputs": [],
   "source": []
  },
  {
   "cell_type": "code",
   "execution_count": null,
   "metadata": {},
   "outputs": [],
   "source": []
  },
  {
   "cell_type": "code",
   "execution_count": null,
   "metadata": {},
   "outputs": [],
   "source": []
  },
  {
   "cell_type": "code",
   "execution_count": null,
   "metadata": {},
   "outputs": [],
   "source": []
  },
  {
   "cell_type": "code",
   "execution_count": null,
   "metadata": {},
   "outputs": [],
   "source": []
  },
  {
   "cell_type": "code",
   "execution_count": null,
   "metadata": {},
   "outputs": [],
   "source": []
  }
 ],
 "metadata": {
  "kernelspec": {
   "display_name": "Python 3",
   "language": "python",
   "name": "python3"
  },
  "language_info": {
   "codemirror_mode": {
    "name": "ipython",
    "version": 2
   },
   "file_extension": ".py",
   "mimetype": "text/x-python",
   "name": "python",
   "nbconvert_exporter": "python",
   "pygments_lexer": "ipython2",
   "version": "2.7.14"
  }
 },
 "nbformat": 4,
 "nbformat_minor": 2
}
